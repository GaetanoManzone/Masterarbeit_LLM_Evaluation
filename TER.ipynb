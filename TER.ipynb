{
 "cells": [
  {
   "cell_type": "code",
   "execution_count": null,
   "id": "a28da8b8",
   "metadata": {},
   "outputs": [],
   "source": [
    "# Import necessary libraries\n",
    "import pandas as pd\n",
    "from pyter import ter\n",
    "from nltk import word_tokenize\n",
    "\n",
    "import nltk\n",
    "nltk.download('punkt')"
   ]
  },
  {
   "cell_type": "code",
   "execution_count": null,
   "id": "d3c0539c",
   "metadata": {},
   "outputs": [],
   "source": [
    "# Set file path to extract information from Excel file and create a DataFrame\n",
    "file_path = '/Users/gaetanomanzone/Desktop/final_all_texts_aligned.xlsx'\n",
    "df = pd.read_excel(file_path, engine='openpyxl', header=0, usecols=[1, 2, 3])\n",
    "\n",
    "# Check the disposition of the extracted columns in the DataFrame\n",
    "df.head()"
   ]
  },
  {
   "cell_type": "code",
   "execution_count": null,
   "id": "39e111e3",
   "metadata": {},
   "outputs": [],
   "source": [
    "# Initialize an empty list to store TER scores for each segment\n",
    "ter_scores = []\n",
    "\n",
    "# Calculate TER scores for each segment and append them to the empty list\n",
    "for index, row in df.iterrows():\n",
    "    hypothesis_ter = row['Zero_Shot']\n",
    "    reference_ter = row['Reference']\n",
    "    print(hypothesis_ter, reference_ter)\n",
    "    TER = ter(word_tokenize(hypothesis_ter), word_tokenize(reference_ter)) # Strings must be tokenized for TER evaluation\n",
    "    ter_scores.append(TER)"
   ]
  },
  {
   "cell_type": "code",
   "execution_count": null,
   "id": "96944271",
   "metadata": {},
   "outputs": [],
   "source": [
    "# Add the TER scores to the initial DataFrame and show the updated DataFrame\n",
    "df['TER_score'] = ter_scores\n",
    "display(df)"
   ]
  },
  {
   "cell_type": "code",
   "execution_count": null,
   "id": "44a4064b",
   "metadata": {},
   "outputs": [],
   "source": [
    "# Save the dataframe to a new Excel file\n",
    "df.to_excel(\"/Users/gaetanomanzone/Desktop/TER_zero_shot.xlsx\")"
   ]
  }
 ],
 "metadata": {
  "kernelspec": {
   "display_name": "Python 3 (ipykernel)",
   "language": "python",
   "name": "python3"
  },
  "language_info": {
   "codemirror_mode": {
    "name": "ipython",
    "version": 3
   },
   "file_extension": ".py",
   "mimetype": "text/x-python",
   "name": "python",
   "nbconvert_exporter": "python",
   "pygments_lexer": "ipython3",
   "version": "3.10.9"
  }
 },
 "nbformat": 4,
 "nbformat_minor": 5
}
