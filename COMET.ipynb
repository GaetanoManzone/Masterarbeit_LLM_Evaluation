{
 "cells": [
  {
   "cell_type": "code",
   "execution_count": null,
   "id": "2d224fd8",
   "metadata": {},
   "outputs": [],
   "source": [
    "!pip install --upgrade pip\n",
    "!pip install unbabel-comet"
   ]
  },
  {
   "cell_type": "code",
   "execution_count": null,
   "id": "a2a67cc0",
   "metadata": {},
   "outputs": [],
   "source": [
    "# Import necessary libraries\n",
    "import pandas as pd\n",
    "from comet import download_model, load_from_checkpoint\n",
    "\n",
    "# Load the default COMET model\n",
    "model_path = download_model(\"Unbabel/wmt22-comet-da\")\n",
    "model = load_from_checkpoint(model_path)"
   ]
  },
  {
   "cell_type": "code",
   "execution_count": null,
   "id": "e0a5e891",
   "metadata": {},
   "outputs": [],
   "source": [
    "# Set file path to extract information from Excel file and create a DataFrame\n",
    "file_path = '/Users/gaetanomanzone/Desktop/final_all_texts_aligned.xlsx'\n",
    "df = pd.read_excel(file_path, engine='openpyxl', header=0, usecols=[1, 2, 5])\n",
    "\n",
    "# Check the disposition of the extracted columns in the DataFrame\n",
    "df.head()"
   ]
  },
  {
   "cell_type": "code",
   "execution_count": null,
   "id": "bb5cda81",
   "metadata": {},
   "outputs": [],
   "source": [
    "# Create an empty list that is going to be populated with the evaluation dictionaries\n",
    "formatted_data = []\n",
    "\n",
    "# Convert DataFrame to list of dictionaries\n",
    "df_dicts = df.to_dict(orient='records')\n",
    "\n",
    "# Populate formatted_data - iterate through each dictionary in df_dicts creating a new dictionary with the keys 'src', 'ref', and 'mt'\n",
    "for row in df_dicts:\n",
    "    formatted_data.append({'src': row['Source'], 'ref': row['Reference'], 'mt': row['Best_Practice']})"
   ]
  },
  {
   "cell_type": "code",
   "execution_count": null,
   "id": "be6706c6",
   "metadata": {},
   "outputs": [],
   "source": [
    "# Calculate COMET scores\n",
    "model_output = model.predict(formatted_data, batch_size=8, gpus=0)\n",
    "print(model_output)"
   ]
  },
  {
   "cell_type": "code",
   "execution_count": null,
   "id": "2ac34756",
   "metadata": {},
   "outputs": [],
   "source": [
    "# Access values in key 'scores' of the 'model_output' object\n",
    "comet_scores = model_output.scores"
   ]
  },
  {
   "cell_type": "code",
   "execution_count": null,
   "id": "358ee520",
   "metadata": {},
   "outputs": [],
   "source": [
    "# Add the COMET scores to the initial DataFrame and show the updated DataFrame\n",
    "df['COMET_score'] = comet_scores\n",
    "display(df)"
   ]
  },
  {
   "cell_type": "code",
   "execution_count": null,
   "id": "18dcf1dc",
   "metadata": {},
   "outputs": [],
   "source": [
    "# Save the dataframe to a new Excel file\n",
    "df.to_excel('/Users/gaetanomanzone/Desktop/COMET_best_practice.xlsx')"
   ]
  }
 ],
 "metadata": {
  "kernelspec": {
   "display_name": "Python 3 (ipykernel)",
   "language": "python",
   "name": "python3"
  },
  "language_info": {
   "codemirror_mode": {
    "name": "ipython",
    "version": 3
   },
   "file_extension": ".py",
   "mimetype": "text/x-python",
   "name": "python",
   "nbconvert_exporter": "python",
   "pygments_lexer": "ipython3",
   "version": "3.10.9"
  }
 },
 "nbformat": 4,
 "nbformat_minor": 5
}
