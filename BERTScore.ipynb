{
 "cells": [
  {
   "cell_type": "code",
   "execution_count": null,
   "id": "c00f618f",
   "metadata": {},
   "outputs": [],
   "source": [
    "!pip install bert-score"
   ]
  },
  {
   "cell_type": "code",
   "execution_count": null,
   "id": "fefab270",
   "metadata": {},
   "outputs": [],
   "source": [
    "#Import necessary libraries\n",
    "from bert_score import score\n",
    "import pandas as pd"
   ]
  },
  {
   "cell_type": "code",
   "execution_count": null,
   "id": "9f0d8ae3",
   "metadata": {},
   "outputs": [],
   "source": [
    "# Set file path to extract information from Excel file and create a DataFrame\n",
    "file_path = '/Users/gaetanomanzone/Desktop/final_all_texts_aligned.xlsx'\n",
    "df = pd.read_excel(file_path, engine='openpyxl', header=0, usecols=[1, 2, 5])\n",
    "\n",
    "# Check the disposition of the extracted columns in the DataFrame\n",
    "df.head()"
   ]
  },
  {
   "cell_type": "code",
   "execution_count": null,
   "id": "a8d0371a",
   "metadata": {},
   "outputs": [],
   "source": [
    "# Transform columns into lists for scoring\n",
    "hypothesis = df['Best_Practice'].tolist()\n",
    "reference = df['Reference'].tolist()\n",
    "\n",
    "# Print segment pairs to check the format of the created lists\n",
    "for i, (hyp, ref) in enumerate(zip(hypothesis, reference)):\n",
    "    print(f\"{hyp} {ref}\")"
   ]
  },
  {
   "cell_type": "code",
   "execution_count": null,
   "id": "a641ae4e",
   "metadata": {},
   "outputs": [],
   "source": [
    "# Calculate BERTScore (Precision, Recall, F1)\n",
    "P, R, F1 = score(hypothesis, reference, lang=\"de\", rescale_with_baseline=True, verbose=True)\n",
    "\n",
    "# Convert the generated scores into lists and add these to the initial DataFrame\n",
    "df['Recall'] = R.tolist()\n",
    "df['Precision'] = P.tolist()\n",
    "df['F-Measure'] = F1.tolist()"
   ]
  },
  {
   "cell_type": "code",
   "execution_count": null,
   "id": "29d2082b",
   "metadata": {},
   "outputs": [],
   "source": [
    "# Save the updated DataFrame to a new Excel file\n",
    "df.to_excel('/Users/gaetanomanzone/Desktop/BERTScore_zero_shot.xlsx')"
   ]
  },
  {
   "cell_type": "code",
   "execution_count": null,
   "id": "e86a94cd",
   "metadata": {},
   "outputs": [],
   "source": [
    "# Import for subsequent plotting of the similarity matrix\n",
    "from bert_score import plot_example"
   ]
  },
  {
   "cell_type": "code",
   "execution_count": null,
   "id": "ddcae8cd",
   "metadata": {},
   "outputs": [],
   "source": [
    "# Plot the similarity matrix\n",
    "hyp = 'Sehr geehrte Aktionärinnen und Aktionäre'\n",
    "ref = 'Liebe Aktionärinnen und Aktionäre'\n",
    "plot_example(hyp, ref, lang=\"de\")"
   ]
  }
 ],
 "metadata": {
  "kernelspec": {
   "display_name": "Python 3 (ipykernel)",
   "language": "python",
   "name": "python3"
  },
  "language_info": {
   "codemirror_mode": {
    "name": "ipython",
    "version": 3
   },
   "file_extension": ".py",
   "mimetype": "text/x-python",
   "name": "python",
   "nbconvert_exporter": "python",
   "pygments_lexer": "ipython3",
   "version": "3.10.9"
  }
 },
 "nbformat": 4,
 "nbformat_minor": 5
}
